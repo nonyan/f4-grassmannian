{
 "cells": [
  {
   "cell_type": "markdown",
   "id": "593a495c",
   "metadata": {},
   "source": [
    "パラメタ設定\n",
    "（今はrは2で固定）"
   ]
  },
  {
   "cell_type": "code",
   "execution_count": 25,
   "id": "d744963b",
   "metadata": {},
   "outputs": [],
   "source": [
    "n=9\n",
    "r=2"
   ]
  },
  {
   "cell_type": "markdown",
   "id": "cfe0df51",
   "metadata": {},
   "source": [
    "多項式環を用意"
   ]
  },
  {
   "cell_type": "code",
   "execution_count": 26,
   "id": "73c6b9eb",
   "metadata": {},
   "outputs": [],
   "source": [
    "R0 = PolynomialRing(QQ, 'x', n)\n",
    "R1= PolynomialRing(R0,'y',2)\n",
    "phi = R1.flattening_morphism()\n",
    "R = phi.codomain()"
   ]
  },
  {
   "cell_type": "markdown",
   "id": "8bdd5769",
   "metadata": {},
   "source": [
    "変数のリストを用意"
   ]
  },
  {
   "cell_type": "code",
   "execution_count": 27,
   "id": "c5b239be",
   "metadata": {},
   "outputs": [
    {
     "data": {
      "text/plain": [
       "(x0, x1, x2, x3, x4, x5, x6, x7, x8, y0, y1)"
      ]
     },
     "execution_count": 27,
     "metadata": {},
     "output_type": "execute_result"
    }
   ],
   "source": [
    "x=R.gens();x"
   ]
  },
  {
   "cell_type": "markdown",
   "id": "2b76afed",
   "metadata": {},
   "source": [
    "$f=(y_0+y_1)^{r(n-r)}$を定義"
   ]
  },
  {
   "cell_type": "code",
   "execution_count": 28,
   "id": "f84c9f1a",
   "metadata": {},
   "outputs": [
    {
     "data": {
      "text/plain": [
       "(y0 + y1)^14"
      ]
     },
     "execution_count": 28,
     "metadata": {},
     "output_type": "execute_result"
    }
   ],
   "source": [
    "f=(x[n]+x[n+1])^(r*(n-r))\n",
    "factor(f)"
   ]
  },
  {
   "cell_type": "code",
   "execution_count": 29,
   "id": "b6a5525d",
   "metadata": {},
   "outputs": [
    {
     "data": {
      "text/plain": [
       "429"
      ]
     },
     "execution_count": 29,
     "metadata": {},
     "output_type": "execute_result"
    }
   ],
   "source": [
    "sum(sum( f.subs({x[n]:x[i],x[n+1]:x[j]})/prod([(x[k]-x[i])*(x[k]-x[j]) for k in set(range(n))-{i,j}])  for j in range(i+1,n)) for i in range(0,n-1))"
   ]
  },
  {
   "cell_type": "markdown",
   "id": "e897f210",
   "metadata": {},
   "source": [
    "$\\operatorname{deg} \\operatorname{Gr}(2,n) = \\frac{(2 n - 4)!}{(n - 2)! (n - 1)!}$と比較"
   ]
  },
  {
   "cell_type": "code",
   "execution_count": 37,
   "id": "7910263d",
   "metadata": {},
   "outputs": [
    {
     "data": {
      "text/plain": [
       "429"
      ]
     },
     "execution_count": 37,
     "metadata": {},
     "output_type": "execute_result"
    }
   ],
   "source": [
    " factorial(2*n - 4)/(factorial(n - 2)*factorial(n - 1)) "
   ]
  },
  {
   "cell_type": "code",
   "execution_count": null,
   "id": "7bfabc6f",
   "metadata": {},
   "outputs": [],
   "source": []
  }
 ],
 "metadata": {
  "kernelspec": {
   "display_name": "SageMath 9.7",
   "language": "sage",
   "name": "sagemath-9.7"
  },
  "language_info": {
   "codemirror_mode": {
    "name": "ipython",
    "version": 3
   },
   "file_extension": ".py",
   "mimetype": "text/x-python",
   "name": "python",
   "nbconvert_exporter": "python",
   "pygments_lexer": "ipython3",
   "version": "3.10.5"
  }
 },
 "nbformat": 4,
 "nbformat_minor": 5
}
